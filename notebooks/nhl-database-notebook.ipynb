{
 "cells": [
  {
   "cell_type": "code",
   "execution_count": 1,
   "id": "0ca3883b",
   "metadata": {
    "_cell_guid": "b1076dfc-b9ad-4769-8c92-a6c4dae69d19",
    "_uuid": "8f2839f25d086af736a60e9eeb907d3b93b6e0e5",
    "execution": {
     "iopub.execute_input": "2025-04-30T10:27:53.006287Z",
     "iopub.status.busy": "2025-04-30T10:27:53.005978Z",
     "iopub.status.idle": "2025-04-30T10:27:54.760053Z",
     "shell.execute_reply": "2025-04-30T10:27:54.759078Z"
    },
    "papermill": {
     "duration": 1.758577,
     "end_time": "2025-04-30T10:27:54.761446",
     "exception": false,
     "start_time": "2025-04-30T10:27:53.002869",
     "status": "completed"
    },
    "tags": []
   },
   "outputs": [
    {
     "name": "stdout",
     "output_type": "stream",
     "text": [
      "/kaggle/input/nhl-database/nhl_players.csv\n",
      "/kaggle/input/nhl-database/MoneyPuckDataDictionaryForPlayers.csv\n",
      "/kaggle/input/nhl-database/all_teams.csv\n",
      "/kaggle/input/nhl-database/MoneyPuck_Shot_Data_Dictionary.csv\n",
      "/kaggle/input/nhl-database/shots_2007-2022.csv\n"
     ]
    }
   ],
   "source": [
    "# This Python 3 environment comes with many helpful analytics libraries installed\n",
    "# It is defined by the kaggle/python Docker image: https://github.com/kaggle/docker-python\n",
    "# For example, here's several helpful packages to load\n",
    "\n",
    "import numpy as np # linear algebra\n",
    "import pandas as pd # data processing, CSV file I/O (e.g. pd.read_csv)\n",
    "\n",
    "# Input data files are available in the read-only \"../input/\" directory\n",
    "# For example, running this (by clicking run or pressing Shift+Enter) will list all files under the input directory\n",
    "\n",
    "import os\n",
    "for dirname, _, filenames in os.walk('/kaggle/input'):\n",
    "    for filename in filenames:\n",
    "        print(os.path.join(dirname, filename))\n",
    "\n",
    "# You can write up to 20GB to the current directory (/kaggle/working/) that gets preserved as output when you create a version using \"Save & Run All\" \n",
    "# You can also write temporary files to /kaggle/temp/, but they won't be saved outside of the current session"
   ]
  },
  {
   "cell_type": "code",
   "execution_count": 2,
   "id": "42476a58",
   "metadata": {
    "execution": {
     "iopub.execute_input": "2025-04-30T10:27:54.766003Z",
     "iopub.status.busy": "2025-04-30T10:27:54.765228Z",
     "iopub.status.idle": "2025-04-30T10:28:31.659783Z",
     "shell.execute_reply": "2025-04-30T10:28:31.658937Z"
    },
    "papermill": {
     "duration": 36.899337,
     "end_time": "2025-04-30T10:28:31.662491",
     "exception": false,
     "start_time": "2025-04-30T10:27:54.763154",
     "status": "completed"
    },
    "tags": []
   },
   "outputs": [
    {
     "name": "stderr",
     "output_type": "stream",
     "text": [
      "/tmp/ipykernel_13/2582663311.py:10: DeprecationWarning: load_dataset is deprecated and will be removed in future version.\n",
      "  df = kagglehub.load_dataset(\n"
     ]
    },
    {
     "name": "stdout",
     "output_type": "stream",
     "text": [
      "First 5 records:    shotID homeTeamCode awayTeamCode  season  isPlayoffGame  game_id  \\\n",
      "0       0          NSH          SJS    2022              0    20001   \n",
      "1       1          NSH          SJS    2022              0    20001   \n",
      "2       2          NSH          SJS    2022              0    20001   \n",
      "3       3          NSH          SJS    2022              0    20001   \n",
      "4       4          NSH          SJS    2022              0    20001   \n",
      "\n",
      "   homeTeamWon  id  time  timeUntilNextEvent  ...    xFroze  xRebound  \\\n",
      "0            1   8    23                 1.0  ...  0.214393  0.037040   \n",
      "1            1  11    36                 6.0  ...  0.186673  0.034948   \n",
      "2            1  15    59                 2.0  ...  0.256798  0.051420   \n",
      "3            1  16    61                 0.0  ...  0.172590  0.092112   \n",
      "4            1  18    72                 1.0  ...  0.128260  0.062224   \n",
      "\n",
      "  xPlayContinuedInZone xPlayContinuedOutsideZone xPlayStopped  xShotWasOnGoal  \\\n",
      "0             0.398742                  0.300830     0.022987        0.710473   \n",
      "1             0.455486                  0.294453     0.020666        0.667152   \n",
      "2             0.358080                  0.259696     0.027936        0.644651   \n",
      "3             0.230564                  0.183049     0.024885        0.898032   \n",
      "4             0.446106                  0.286419     0.019556        0.759405   \n",
      "\n",
      "   isHomeTeam  shotWasOnGoal  teamCode  arenaAdjustedXCordABS  \n",
      "0         0.0            1.0       SJS                   47.0  \n",
      "1         0.0            0.0       SJS                   45.0  \n",
      "2         1.0            1.0       NSH                   31.0  \n",
      "3         1.0            1.0       NSH                   76.0  \n",
      "4         1.0            1.0       NSH                   82.0  \n",
      "\n",
      "[5 rows x 124 columns]\n"
     ]
    }
   ],
   "source": [
    "# Install dependencies as needed:\n",
    "# pip install kagglehub[pandas-datasets]\n",
    "import kagglehub\n",
    "from kagglehub import KaggleDatasetAdapter\n",
    "\n",
    "# Set the path to the file you'd like to load\n",
    "file_path = \"shots_2007-2022.csv\"\n",
    "\n",
    "# Load the latest version\n",
    "df = kagglehub.load_dataset(\n",
    "  KaggleDatasetAdapter.PANDAS,\n",
    "  \"mexwell/nhl-database\",\n",
    "  file_path,\n",
    "  # Provide any additional arguments like \n",
    "  # sql_query or pandas_kwargs. See the \n",
    "  # documenation for more information:\n",
    "  # https://github.com/Kaggle/kagglehub/blob/main/README.md#kaggledatasetadapterpandas\n",
    ")\n",
    "\n",
    "print(\"First 5 records:\", df.head())"
   ]
  }
 ],
 "metadata": {
  "kaggle": {
   "accelerator": "none",
   "dataSources": [
    {
     "datasetId": 3759977,
     "sourceId": 6504184,
     "sourceType": "datasetVersion"
    }
   ],
   "dockerImageVersionId": 31012,
   "isGpuEnabled": false,
   "isInternetEnabled": false,
   "language": "python",
   "sourceType": "notebook"
  },
  "kernelspec": {
   "display_name": "Python 3",
   "language": "python",
   "name": "python3"
  },
  "language_info": {
   "codemirror_mode": {
    "name": "ipython",
    "version": 3
   },
   "file_extension": ".py",
   "mimetype": "text/x-python",
   "name": "python",
   "nbconvert_exporter": "python",
   "pygments_lexer": "ipython3",
   "version": "3.11.11"
  },
  "papermill": {
   "default_parameters": {},
   "duration": 43.756285,
   "end_time": "2025-04-30T10:28:32.384811",
   "environment_variables": {},
   "exception": null,
   "input_path": "__notebook__.ipynb",
   "output_path": "__notebook__.ipynb",
   "parameters": {},
   "start_time": "2025-04-30T10:27:48.628526",
   "version": "2.6.0"
  }
 },
 "nbformat": 4,
 "nbformat_minor": 5
}
